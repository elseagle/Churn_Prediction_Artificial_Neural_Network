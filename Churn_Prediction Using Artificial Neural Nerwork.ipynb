{
 "cells": [
  {
   "cell_type": "code",
   "execution_count": 32,
   "metadata": {},
   "outputs": [],
   "source": [
    "# Importing the libraries\n",
    "import numpy as np\n",
    "import matplotlib.pyplot as plt\n",
    "import pandas as pd"
   ]
  },
  {
   "cell_type": "code",
   "execution_count": 33,
   "metadata": {},
   "outputs": [
    {
     "data": {
      "text/html": [
       "<div>\n",
       "<style scoped>\n",
       "    .dataframe tbody tr th:only-of-type {\n",
       "        vertical-align: middle;\n",
       "    }\n",
       "\n",
       "    .dataframe tbody tr th {\n",
       "        vertical-align: top;\n",
       "    }\n",
       "\n",
       "    .dataframe thead th {\n",
       "        text-align: right;\n",
       "    }\n",
       "</style>\n",
       "<table border=\"1\" class=\"dataframe\">\n",
       "  <thead>\n",
       "    <tr style=\"text-align: right;\">\n",
       "      <th></th>\n",
       "      <th>RowNumber</th>\n",
       "      <th>CustomerId</th>\n",
       "      <th>Surname</th>\n",
       "      <th>CreditScore</th>\n",
       "      <th>Geography</th>\n",
       "      <th>Gender</th>\n",
       "      <th>Age</th>\n",
       "      <th>Tenure</th>\n",
       "      <th>Balance</th>\n",
       "      <th>NumOfProducts</th>\n",
       "      <th>HasCrCard</th>\n",
       "      <th>IsActiveMember</th>\n",
       "      <th>EstimatedSalary</th>\n",
       "      <th>Exited</th>\n",
       "    </tr>\n",
       "  </thead>\n",
       "  <tbody>\n",
       "    <tr>\n",
       "      <th>201</th>\n",
       "      <td>202</td>\n",
       "      <td>15622911</td>\n",
       "      <td>Jude</td>\n",
       "      <td>759</td>\n",
       "      <td>France</td>\n",
       "      <td>Male</td>\n",
       "      <td>42</td>\n",
       "      <td>4</td>\n",
       "      <td>105420.18</td>\n",
       "      <td>1</td>\n",
       "      <td>0</td>\n",
       "      <td>1</td>\n",
       "      <td>121409.06</td>\n",
       "      <td>0</td>\n",
       "    </tr>\n",
       "    <tr>\n",
       "      <th>9629</th>\n",
       "      <td>9630</td>\n",
       "      <td>15601977</td>\n",
       "      <td>Burgoyne</td>\n",
       "      <td>497</td>\n",
       "      <td>Spain</td>\n",
       "      <td>Male</td>\n",
       "      <td>44</td>\n",
       "      <td>2</td>\n",
       "      <td>121250.04</td>\n",
       "      <td>1</td>\n",
       "      <td>0</td>\n",
       "      <td>1</td>\n",
       "      <td>79691.40</td>\n",
       "      <td>0</td>\n",
       "    </tr>\n",
       "    <tr>\n",
       "      <th>5650</th>\n",
       "      <td>5651</td>\n",
       "      <td>15644882</td>\n",
       "      <td>Watson</td>\n",
       "      <td>616</td>\n",
       "      <td>Germany</td>\n",
       "      <td>Female</td>\n",
       "      <td>36</td>\n",
       "      <td>10</td>\n",
       "      <td>78249.53</td>\n",
       "      <td>1</td>\n",
       "      <td>1</td>\n",
       "      <td>0</td>\n",
       "      <td>136934.91</td>\n",
       "      <td>0</td>\n",
       "    </tr>\n",
       "    <tr>\n",
       "      <th>7585</th>\n",
       "      <td>7586</td>\n",
       "      <td>15580579</td>\n",
       "      <td>Trevisani</td>\n",
       "      <td>490</td>\n",
       "      <td>France</td>\n",
       "      <td>Female</td>\n",
       "      <td>40</td>\n",
       "      <td>1</td>\n",
       "      <td>0.00</td>\n",
       "      <td>1</td>\n",
       "      <td>1</td>\n",
       "      <td>1</td>\n",
       "      <td>49594.19</td>\n",
       "      <td>1</td>\n",
       "    </tr>\n",
       "    <tr>\n",
       "      <th>7123</th>\n",
       "      <td>7124</td>\n",
       "      <td>15682686</td>\n",
       "      <td>Chukwuemeka</td>\n",
       "      <td>722</td>\n",
       "      <td>France</td>\n",
       "      <td>Female</td>\n",
       "      <td>38</td>\n",
       "      <td>3</td>\n",
       "      <td>0.00</td>\n",
       "      <td>2</td>\n",
       "      <td>0</td>\n",
       "      <td>1</td>\n",
       "      <td>167984.72</td>\n",
       "      <td>0</td>\n",
       "    </tr>\n",
       "  </tbody>\n",
       "</table>\n",
       "</div>"
      ],
      "text/plain": [
       "      RowNumber  CustomerId      Surname  CreditScore Geography  Gender  Age  \\\n",
       "201         202    15622911         Jude          759    France    Male   42   \n",
       "9629       9630    15601977     Burgoyne          497     Spain    Male   44   \n",
       "5650       5651    15644882       Watson          616   Germany  Female   36   \n",
       "7585       7586    15580579    Trevisani          490    France  Female   40   \n",
       "7123       7124    15682686  Chukwuemeka          722    France  Female   38   \n",
       "\n",
       "      Tenure    Balance  NumOfProducts  HasCrCard  IsActiveMember  \\\n",
       "201        4  105420.18              1          0               1   \n",
       "9629       2  121250.04              1          0               1   \n",
       "5650      10   78249.53              1          1               0   \n",
       "7585       1       0.00              1          1               1   \n",
       "7123       3       0.00              2          0               1   \n",
       "\n",
       "      EstimatedSalary  Exited  \n",
       "201         121409.06       0  \n",
       "9629         79691.40       0  \n",
       "5650        136934.91       0  \n",
       "7585         49594.19       1  \n",
       "7123        167984.72       0  "
      ]
     },
     "execution_count": 33,
     "metadata": {},
     "output_type": "execute_result"
    }
   ],
   "source": [
    "# Importing the dataset\n",
    "dataset = pd.read_csv('Churn_Modelling.csv')\n",
    "dataset.sample(5)"
   ]
  },
  {
   "cell_type": "code",
   "execution_count": 34,
   "metadata": {},
   "outputs": [],
   "source": [
    "\n",
    "X = dataset.iloc[:, 3:13].values\n",
    "y = dataset.iloc[:, 13].values"
   ]
  },
  {
   "cell_type": "code",
   "execution_count": 35,
   "metadata": {},
   "outputs": [],
   "source": [
    "# Encoding categorical data\n",
    "from sklearn.preprocessing import LabelEncoder, OneHotEncoder\n",
    "labelencoder_X_1 = LabelEncoder()\n",
    "X[:, 1] = labelencoder_X_1.fit_transform(X[:, 1])\n",
    "labelencoder_X_2 = LabelEncoder()\n",
    "X[:, 2] = labelencoder_X_2.fit_transform(X[:, 2])"
   ]
  },
  {
   "cell_type": "code",
   "execution_count": 36,
   "metadata": {},
   "outputs": [
    {
     "data": {
      "text/plain": [
       "array([[619, 0, 0, ..., 1, 1, 101348.88],\n",
       "       [608, 2, 0, ..., 0, 1, 112542.58],\n",
       "       [502, 0, 0, ..., 1, 0, 113931.57],\n",
       "       ...,\n",
       "       [709, 0, 0, ..., 0, 1, 42085.58],\n",
       "       [772, 1, 1, ..., 1, 0, 92888.52],\n",
       "       [792, 0, 0, ..., 1, 0, 38190.78]], dtype=object)"
      ]
     },
     "execution_count": 36,
     "metadata": {},
     "output_type": "execute_result"
    }
   ],
   "source": [
    "X"
   ]
  },
  {
   "cell_type": "code",
   "execution_count": 37,
   "metadata": {},
   "outputs": [],
   "source": [
    "onehotencoder = OneHotEncoder(categorical_features = [1])\n",
    "X = onehotencoder.fit_transform(X).toarray()\n",
    "X = X[:, 1:]"
   ]
  },
  {
   "cell_type": "code",
   "execution_count": 38,
   "metadata": {},
   "outputs": [],
   "source": [
    "\n",
    "# Splitting the dataset into the Training set and Test set\n",
    "from sklearn.model_selection import train_test_split\n",
    "X_train, X_test, y_train, y_test = train_test_split(X, y, test_size = 0.2, random_state = 0)"
   ]
  },
  {
   "cell_type": "code",
   "execution_count": 39,
   "metadata": {},
   "outputs": [],
   "source": [
    "# Feature Scaling\n",
    "from sklearn.preprocessing import StandardScaler\n",
    "sc = StandardScaler()\n",
    "X_train = sc.fit_transform(X_train)\n",
    "X_test = sc.transform(X_test)"
   ]
  },
  {
   "cell_type": "code",
   "execution_count": 40,
   "metadata": {},
   "outputs": [],
   "source": [
    "# Part 2 - Now let's make the ANN!\n",
    "\n",
    "# Importing the Keras libraries and packages\n",
    "import keras\n",
    "from keras.models import Sequential\n",
    "from keras.layers import Dense"
   ]
  },
  {
   "cell_type": "code",
   "execution_count": 41,
   "metadata": {},
   "outputs": [],
   "source": [
    " #Initialising the ANN\n",
    "classifier = Sequential()\n"
   ]
  },
  {
   "cell_type": "code",
   "execution_count": 42,
   "metadata": {},
   "outputs": [
    {
     "name": "stderr",
     "output_type": "stream",
     "text": [
      "/home/oluwasogo/.local/share/virtualenvs/oluwasogo-lBFvzgwL/lib/python3.6/site-packages/ipykernel_launcher.py:3: UserWarning: Update your `Dense` call to the Keras 2 API: `Dense(activation=\"relu\", input_dim=11, units=6, kernel_initializer=\"uniform\")`\n",
      "  This is separate from the ipykernel package so we can avoid doing imports until\n"
     ]
    }
   ],
   "source": [
    "\n",
    "# Adding the input layer and the first hidden layer\n",
    "classifier.add(Dense(output_dim = 6, init = 'uniform', activation = 'relu', input_dim = 11)) \n",
    "#relu = rectifier activator\n",
    "#output_dim = (independent variable(input_dim) + dependent variable)/2"
   ]
  },
  {
   "cell_type": "code",
   "execution_count": 43,
   "metadata": {},
   "outputs": [
    {
     "name": "stderr",
     "output_type": "stream",
     "text": [
      "/home/oluwasogo/.local/share/virtualenvs/oluwasogo-lBFvzgwL/lib/python3.6/site-packages/ipykernel_launcher.py:3: UserWarning: Update your `Dense` call to the Keras 2 API: `Dense(activation=\"relu\", units=6, kernel_initializer=\"uniform\")`\n",
      "  This is separate from the ipykernel package so we can avoid doing imports until\n"
     ]
    }
   ],
   "source": [
    "# Adding the second hidden layer\n",
    "\n",
    "classifier.add(Dense(output_dim = 6, init = 'uniform', activation = 'relu'))"
   ]
  },
  {
   "cell_type": "code",
   "execution_count": 44,
   "metadata": {
    "scrolled": true
   },
   "outputs": [
    {
     "name": "stderr",
     "output_type": "stream",
     "text": [
      "/home/oluwasogo/.local/share/virtualenvs/oluwasogo-lBFvzgwL/lib/python3.6/site-packages/ipykernel_launcher.py:2: UserWarning: Update your `Dense` call to the Keras 2 API: `Dense(activation=\"sigmoid\", units=1, kernel_initializer=\"uniform\")`\n",
      "  \n"
     ]
    }
   ],
   "source": [
    "#Output layer\n",
    "classifier.add(Dense(output_dim = 1, init = 'uniform', activation = 'sigmoid'))"
   ]
  },
  {
   "cell_type": "code",
   "execution_count": 45,
   "metadata": {},
   "outputs": [],
   "source": [
    "# Compiling the ANN\n",
    "classifier.compile(optimizer = 'adam', loss = 'binary_crossentropy', metrics = ['accuracy']) \n",
    "#loss=m categorical_crossentropy for more 2 classes"
   ]
  },
  {
   "cell_type": "code",
   "execution_count": 46,
   "metadata": {},
   "outputs": [
    {
     "name": "stderr",
     "output_type": "stream",
     "text": [
      "/home/oluwasogo/.local/share/virtualenvs/oluwasogo-lBFvzgwL/lib/python3.6/site-packages/keras/models.py:942: UserWarning: The `nb_epoch` argument in `fit` has been renamed `epochs`.\n",
      "  warnings.warn('The `nb_epoch` argument in `fit` '\n"
     ]
    },
    {
     "name": "stdout",
     "output_type": "stream",
     "text": [
      "Epoch 1/100\n",
      "8000/8000 [==============================] - 2s 188us/step - loss: 0.4811 - acc: 0.8006\n",
      "Epoch 2/100\n",
      "8000/8000 [==============================] - 1s 156us/step - loss: 0.4077 - acc: 0.8235\n",
      "Epoch 3/100\n",
      "8000/8000 [==============================] - 1s 161us/step - loss: 0.3934 - acc: 0.8302\n",
      "Epoch 4/100\n",
      "8000/8000 [==============================] - 1s 160us/step - loss: 0.3835 - acc: 0.8319\n",
      "Epoch 5/100\n",
      "8000/8000 [==============================] - 1s 164us/step - loss: 0.3774 - acc: 0.8326\n",
      "Epoch 6/100\n",
      "8000/8000 [==============================] - 1s 160us/step - loss: 0.3734 - acc: 0.8446\n",
      "Epoch 7/100\n",
      "8000/8000 [==============================] - 1s 156us/step - loss: 0.3700 - acc: 0.8467\n",
      "Epoch 8/100\n",
      "8000/8000 [==============================] - 1s 156us/step - loss: 0.3658 - acc: 0.8519\n",
      "Epoch 9/100\n",
      "8000/8000 [==============================] - 1s 158us/step - loss: 0.3642 - acc: 0.8526\n",
      "Epoch 10/100\n",
      "8000/8000 [==============================] - 1s 160us/step - loss: 0.3614 - acc: 0.8501\n",
      "Epoch 11/100\n",
      "8000/8000 [==============================] - 1s 177us/step - loss: 0.3593 - acc: 0.8535\n",
      "Epoch 12/100\n",
      "8000/8000 [==============================] - 1s 162us/step - loss: 0.3583 - acc: 0.8534\n",
      "Epoch 13/100\n",
      "8000/8000 [==============================] - 1s 158us/step - loss: 0.3563 - acc: 0.8544\n",
      "Epoch 14/100\n",
      "8000/8000 [==============================] - 1s 162us/step - loss: 0.3547 - acc: 0.8539\n",
      "Epoch 15/100\n",
      "8000/8000 [==============================] - 1s 186us/step - loss: 0.3530 - acc: 0.8560\n",
      "Epoch 16/100\n",
      "8000/8000 [==============================] - 1s 162us/step - loss: 0.3525 - acc: 0.8529\n",
      "Epoch 17/100\n",
      "8000/8000 [==============================] - 1s 167us/step - loss: 0.3517 - acc: 0.8570\n",
      "Epoch 18/100\n",
      "8000/8000 [==============================] - 1s 161us/step - loss: 0.3493 - acc: 0.8552\n",
      "Epoch 19/100\n",
      "8000/8000 [==============================] - 1s 163us/step - loss: 0.3500 - acc: 0.8557\n",
      "Epoch 20/100\n",
      "8000/8000 [==============================] - 1s 164us/step - loss: 0.3483 - acc: 0.8556\n",
      "Epoch 21/100\n",
      "8000/8000 [==============================] - 1s 158us/step - loss: 0.3484 - acc: 0.8571\n",
      "Epoch 22/100\n",
      "8000/8000 [==============================] - 1s 160us/step - loss: 0.3468 - acc: 0.8600\n",
      "Epoch 23/100\n",
      "8000/8000 [==============================] - 1s 158us/step - loss: 0.3471 - acc: 0.8606\n",
      "Epoch 24/100\n",
      "8000/8000 [==============================] - 1s 161us/step - loss: 0.3457 - acc: 0.8609\n",
      "Epoch 25/100\n",
      "8000/8000 [==============================] - 1s 158us/step - loss: 0.3454 - acc: 0.8606\n",
      "Epoch 26/100\n",
      "8000/8000 [==============================] - 1s 163us/step - loss: 0.3435 - acc: 0.8612\n",
      "Epoch 27/100\n",
      "8000/8000 [==============================] - 1s 164us/step - loss: 0.3450 - acc: 0.8595\n",
      "Epoch 28/100\n",
      "8000/8000 [==============================] - 1s 173us/step - loss: 0.3450 - acc: 0.8592\n",
      "Epoch 29/100\n",
      "8000/8000 [==============================] - 1s 168us/step - loss: 0.3440 - acc: 0.8597\n",
      "Epoch 30/100\n",
      "8000/8000 [==============================] - 1s 158us/step - loss: 0.3442 - acc: 0.8587\n",
      "Epoch 31/100\n",
      "8000/8000 [==============================] - 1s 169us/step - loss: 0.3436 - acc: 0.8581\n",
      "Epoch 32/100\n",
      "8000/8000 [==============================] - 1s 162us/step - loss: 0.3441 - acc: 0.8609\n",
      "Epoch 33/100\n",
      "8000/8000 [==============================] - 1s 161us/step - loss: 0.3424 - acc: 0.8585\n",
      "Epoch 34/100\n",
      "8000/8000 [==============================] - 1s 161us/step - loss: 0.3421 - acc: 0.8567\n",
      "Epoch 35/100\n",
      "8000/8000 [==============================] - 1s 168us/step - loss: 0.3425 - acc: 0.8601\n",
      "Epoch 36/100\n",
      "8000/8000 [==============================] - 1s 164us/step - loss: 0.3408 - acc: 0.8621\n",
      "Epoch 37/100\n",
      "8000/8000 [==============================] - 1s 166us/step - loss: 0.3409 - acc: 0.8622\n",
      "Epoch 38/100\n",
      "8000/8000 [==============================] - 1s 170us/step - loss: 0.3423 - acc: 0.8579\n",
      "Epoch 39/100\n",
      "8000/8000 [==============================] - 1s 165us/step - loss: 0.3413 - acc: 0.8610\n",
      "Epoch 40/100\n",
      "8000/8000 [==============================] - 1s 171us/step - loss: 0.3422 - acc: 0.8567\n",
      "Epoch 41/100\n",
      "8000/8000 [==============================] - 1s 168us/step - loss: 0.3404 - acc: 0.8604\n",
      "Epoch 42/100\n",
      "8000/8000 [==============================] - 1s 170us/step - loss: 0.3412 - acc: 0.8599\n",
      "Epoch 43/100\n",
      "8000/8000 [==============================] - 1s 168us/step - loss: 0.3398 - acc: 0.8602\n",
      "Epoch 44/100\n",
      "8000/8000 [==============================] - 1s 175us/step - loss: 0.3400 - acc: 0.8600\n",
      "Epoch 45/100\n",
      "8000/8000 [==============================] - 1s 163us/step - loss: 0.3393 - acc: 0.8611\n",
      "Epoch 46/100\n",
      "8000/8000 [==============================] - 1s 169us/step - loss: 0.3397 - acc: 0.8596\n",
      "Epoch 47/100\n",
      "8000/8000 [==============================] - 1s 168us/step - loss: 0.3405 - acc: 0.8597\n",
      "Epoch 48/100\n",
      "8000/8000 [==============================] - 1s 180us/step - loss: 0.3411 - acc: 0.8594\n",
      "Epoch 49/100\n",
      "8000/8000 [==============================] - 1s 175us/step - loss: 0.3388 - acc: 0.8602\n",
      "Epoch 50/100\n",
      "8000/8000 [==============================] - 1s 167us/step - loss: 0.3396 - acc: 0.8619\n",
      "Epoch 51/100\n",
      "8000/8000 [==============================] - 1s 166us/step - loss: 0.3392 - acc: 0.8607\n",
      "Epoch 52/100\n",
      "8000/8000 [==============================] - 1s 167us/step - loss: 0.3391 - acc: 0.8587\n",
      "Epoch 53/100\n",
      "8000/8000 [==============================] - 1s 165us/step - loss: 0.3387 - acc: 0.8612\n",
      "Epoch 54/100\n",
      "8000/8000 [==============================] - 1s 181us/step - loss: 0.3391 - acc: 0.8617\n",
      "Epoch 55/100\n",
      "8000/8000 [==============================] - 1s 175us/step - loss: 0.3389 - acc: 0.8607\n",
      "Epoch 56/100\n",
      "8000/8000 [==============================] - 1s 169us/step - loss: 0.3385 - acc: 0.8614\n",
      "Epoch 57/100\n",
      "8000/8000 [==============================] - 1s 166us/step - loss: 0.3378 - acc: 0.8644\n",
      "Epoch 58/100\n",
      "8000/8000 [==============================] - 1s 181us/step - loss: 0.3380 - acc: 0.8609\n",
      "Epoch 59/100\n",
      "8000/8000 [==============================] - 1s 183us/step - loss: 0.3374 - acc: 0.8620\n",
      "Epoch 60/100\n",
      "8000/8000 [==============================] - 1s 181us/step - loss: 0.3377 - acc: 0.8607\n",
      "Epoch 61/100\n",
      "8000/8000 [==============================] - 1s 180us/step - loss: 0.3379 - acc: 0.8617\n",
      "Epoch 62/100\n",
      "8000/8000 [==============================] - 1s 165us/step - loss: 0.3383 - acc: 0.8592\n",
      "Epoch 63/100\n",
      "8000/8000 [==============================] - 1s 172us/step - loss: 0.3382 - acc: 0.8610\n",
      "Epoch 64/100\n",
      "8000/8000 [==============================] - 1s 173us/step - loss: 0.3368 - acc: 0.8615\n",
      "Epoch 65/100\n",
      "8000/8000 [==============================] - 2s 189us/step - loss: 0.3380 - acc: 0.8602\n",
      "Epoch 66/100\n",
      "8000/8000 [==============================] - 1s 172us/step - loss: 0.3374 - acc: 0.8611\n",
      "Epoch 67/100\n",
      "8000/8000 [==============================] - 1s 177us/step - loss: 0.3376 - acc: 0.8610\n",
      "Epoch 68/100\n",
      "8000/8000 [==============================] - 1s 173us/step - loss: 0.3375 - acc: 0.8627\n",
      "Epoch 69/100\n",
      "8000/8000 [==============================] - 1s 182us/step - loss: 0.3379 - acc: 0.8629\n",
      "Epoch 70/100\n",
      "8000/8000 [==============================] - 1s 168us/step - loss: 0.3379 - acc: 0.8622\n",
      "Epoch 71/100\n",
      "8000/8000 [==============================] - 1s 163us/step - loss: 0.3369 - acc: 0.8624\n",
      "Epoch 72/100\n",
      "8000/8000 [==============================] - 1s 165us/step - loss: 0.3360 - acc: 0.8606\n",
      "Epoch 73/100\n",
      "8000/8000 [==============================] - 1s 167us/step - loss: 0.3366 - acc: 0.8615\n",
      "Epoch 74/100\n",
      "8000/8000 [==============================] - 1s 168us/step - loss: 0.3377 - acc: 0.8630\n",
      "Epoch 75/100\n",
      "8000/8000 [==============================] - 1s 169us/step - loss: 0.3375 - acc: 0.8625\n",
      "Epoch 76/100\n",
      "8000/8000 [==============================] - 1s 169us/step - loss: 0.3381 - acc: 0.8610\n",
      "Epoch 77/100\n",
      "8000/8000 [==============================] - 1s 171us/step - loss: 0.3366 - acc: 0.8610\n",
      "Epoch 78/100\n",
      "8000/8000 [==============================] - 1s 167us/step - loss: 0.3368 - acc: 0.8635\n",
      "Epoch 79/100\n",
      "8000/8000 [==============================] - 2s 198us/step - loss: 0.3371 - acc: 0.8617\n",
      "Epoch 80/100\n",
      "8000/8000 [==============================] - 1s 179us/step - loss: 0.3364 - acc: 0.8625\n",
      "Epoch 81/100\n",
      "8000/8000 [==============================] - 1s 169us/step - loss: 0.3365 - acc: 0.8619\n",
      "Epoch 82/100\n"
     ]
    },
    {
     "name": "stdout",
     "output_type": "stream",
     "text": [
      "8000/8000 [==============================] - 1s 168us/step - loss: 0.3365 - acc: 0.8642\n",
      "Epoch 83/100\n",
      "8000/8000 [==============================] - 1s 161us/step - loss: 0.3368 - acc: 0.8616\n",
      "Epoch 84/100\n",
      "8000/8000 [==============================] - 1s 153us/step - loss: 0.3368 - acc: 0.8619\n",
      "Epoch 85/100\n",
      "8000/8000 [==============================] - 1s 167us/step - loss: 0.3370 - acc: 0.8625\n",
      "Epoch 86/100\n",
      "8000/8000 [==============================] - 1s 164us/step - loss: 0.3370 - acc: 0.8621\n",
      "Epoch 87/100\n",
      "8000/8000 [==============================] - 1s 159us/step - loss: 0.3361 - acc: 0.8626\n",
      "Epoch 88/100\n",
      "8000/8000 [==============================] - 1s 172us/step - loss: 0.3377 - acc: 0.8617\n",
      "Epoch 89/100\n",
      "8000/8000 [==============================] - 1s 159us/step - loss: 0.3372 - acc: 0.8617\n",
      "Epoch 90/100\n",
      "8000/8000 [==============================] - 1s 175us/step - loss: 0.3373 - acc: 0.8605\n",
      "Epoch 91/100\n",
      "8000/8000 [==============================] - 1s 169us/step - loss: 0.3362 - acc: 0.8619\n",
      "Epoch 92/100\n",
      "8000/8000 [==============================] - 1s 165us/step - loss: 0.3367 - acc: 0.8611\n",
      "Epoch 93/100\n",
      "8000/8000 [==============================] - 1s 177us/step - loss: 0.3370 - acc: 0.8601\n",
      "Epoch 94/100\n",
      "8000/8000 [==============================] - 1s 169us/step - loss: 0.3363 - acc: 0.8632\n",
      "Epoch 95/100\n",
      "8000/8000 [==============================] - 1s 166us/step - loss: 0.3361 - acc: 0.8622\n",
      "Epoch 96/100\n",
      "8000/8000 [==============================] - 1s 171us/step - loss: 0.3363 - acc: 0.8631\n",
      "Epoch 97/100\n",
      "8000/8000 [==============================] - 1s 171us/step - loss: 0.3363 - acc: 0.8614\n",
      "Epoch 98/100\n",
      "8000/8000 [==============================] - 1s 171us/step - loss: 0.3360 - acc: 0.8630\n",
      "Epoch 99/100\n",
      "8000/8000 [==============================] - 2s 194us/step - loss: 0.3362 - acc: 0.8622\n",
      "Epoch 100/100\n",
      "8000/8000 [==============================] - 1s 171us/step - loss: 0.3362 - acc: 0.8607\n"
     ]
    },
    {
     "data": {
      "text/plain": [
       "<keras.callbacks.History at 0x7fe3d9fa01d0>"
      ]
     },
     "execution_count": 46,
     "metadata": {},
     "output_type": "execute_result"
    }
   ],
   "source": [
    "# Fitting the ANN to the Training set\n",
    "classifier.fit(X_train, y_train, batch_size = 10, nb_epoch = 100) \n",
    "#this is a test nb_epoch and batch were selected randomly"
   ]
  },
  {
   "cell_type": "code",
   "execution_count": 47,
   "metadata": {},
   "outputs": [],
   "source": [
    "# Part 3 - Making the predictions and evaluating the model\n",
    "\n",
    "# Predicting the Test set results\n",
    "y_pred = classifier.predict(X_test)"
   ]
  },
  {
   "cell_type": "code",
   "execution_count": 48,
   "metadata": {},
   "outputs": [],
   "source": [
    "#setting prediction threshold\n",
    "y_pred = (y_pred > 0.5)"
   ]
  },
  {
   "cell_type": "code",
   "execution_count": 49,
   "metadata": {},
   "outputs": [],
   "source": [
    "# Making the Confusion Matrix\n",
    "from sklearn.metrics import confusion_matrix\n",
    "cm = confusion_matrix(y_test, y_pred)"
   ]
  },
  {
   "cell_type": "code",
   "execution_count": 50,
   "metadata": {},
   "outputs": [
    {
     "data": {
      "text/plain": [
       "array([[1525,   70],\n",
       "       [ 214,  191]])"
      ]
     },
     "execution_count": 50,
     "metadata": {},
     "output_type": "execute_result"
    }
   ],
   "source": [
    "cm"
   ]
  },
  {
   "cell_type": "code",
   "execution_count": 52,
   "metadata": {},
   "outputs": [
    {
     "data": {
      "text/plain": [
       "0.858"
      ]
     },
     "execution_count": 52,
     "metadata": {},
     "output_type": "execute_result"
    }
   ],
   "source": [
    "#accuracy\n",
    "(1525+191)/2000\n",
    "#yours may defer"
   ]
  },
  {
   "cell_type": "code",
   "execution_count": null,
   "metadata": {},
   "outputs": [],
   "source": []
  }
 ],
 "metadata": {
  "kernelspec": {
   "display_name": "Python 3",
   "language": "python",
   "name": "python3"
  },
  "language_info": {
   "codemirror_mode": {
    "name": "ipython",
    "version": 3
   },
   "file_extension": ".py",
   "mimetype": "text/x-python",
   "name": "python",
   "nbconvert_exporter": "python",
   "pygments_lexer": "ipython3",
   "version": "3.6.5rc1"
  }
 },
 "nbformat": 4,
 "nbformat_minor": 2
}
